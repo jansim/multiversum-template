{
 "cells": [
  {
   "cell_type": "code",
   "execution_count": 1,
   "metadata": {
    "tags": [
     "parameters"
    ]
   },
   "outputs": [],
   "source": [
    "settings = {\n",
    "    # Configuration of this universe\n",
    "    # (automatically overriden when running the multiverse analysis)\n",
    "    \"dimensions\": {\n",
    "        \"scaler\": \"StandardScaler\",\n",
    "        \"feature_selector\": \"SelectKBest_5\",\n",
    "        \"model\": \"RandomForest\",\n",
    "    }\n",
    "}"
   ]
  },
  {
   "cell_type": "code",
   "execution_count": 2,
   "metadata": {},
   "outputs": [],
   "source": [
    "from multiversum import Universe\n",
    "\n",
    "universe = Universe(\n",
    "    settings=settings,\n",
    ")\n",
    "\n",
    "# Get the parsed universe settings\n",
    "dimensions = universe.dimensions"
   ]
  },
  {
   "cell_type": "code",
   "execution_count": 3,
   "metadata": {},
   "outputs": [],
   "source": [
    "# Imports for analyses\n",
    "import pandas as pd\n",
    "from sklearn.datasets import load_wine\n",
    "from sklearn.model_selection import train_test_split\n",
    "from sklearn.preprocessing import StandardScaler, MinMaxScaler\n",
    "from sklearn.feature_selection import SelectKBest, f_classif\n",
    "from sklearn.linear_model import LogisticRegression\n",
    "from sklearn.tree import DecisionTreeClassifier\n",
    "from sklearn.ensemble import RandomForestClassifier\n",
    "from sklearn.pipeline import Pipeline\n",
    "from sklearn.metrics import accuracy_score, precision_score, recall_score, f1_score"
   ]
  },
  {
   "cell_type": "code",
   "execution_count": 4,
   "metadata": {},
   "outputs": [],
   "source": [
    "# Load data\n",
    "data = load_wine()\n",
    "\n",
    "X = data[\"data\"]\n",
    "y = data[\"target\"]"
   ]
  },
  {
   "cell_type": "code",
   "execution_count": null,
   "metadata": {},
   "outputs": [],
   "source": [
    "X"
   ]
  },
  {
   "cell_type": "code",
   "execution_count": 6,
   "metadata": {},
   "outputs": [],
   "source": [
    "# Split data into training and test set\n",
    "X_train, X_test, y_train, y_test = train_test_split(\n",
    "    X, y, test_size=0.2, random_state=universe.seed\n",
    ")"
   ]
  },
  {
   "cell_type": "code",
   "execution_count": null,
   "metadata": {},
   "outputs": [],
   "source": [
    "# Select the scaler based on the configuration\n",
    "if dimensions[\"scaler\"] == \"StandardScaler\":\n",
    "    scaler = StandardScaler()\n",
    "elif dimensions[\"scaler\"] == \"MinMaxScaler\":\n",
    "    scaler = MinMaxScaler()\n",
    "else:\n",
    "    scaler = None  # No scaling\n",
    "\n",
    "# Select the feature selector based on the configuration\n",
    "if dimensions[\"feature_selector\"] == \"SelectKBest_5\":\n",
    "    selector = SelectKBest(f_classif, k=5)\n",
    "elif dimensions[\"feature_selector\"] == \"SelectKBest_10\":\n",
    "    selector = SelectKBest(f_classif, k=10)\n",
    "else:\n",
    "    selector = None  # No feature selection\n",
    "\n",
    "# Select the model based on the configuration\n",
    "if dimensions[\"model\"] == \"LogisticRegression\":\n",
    "    model = LogisticRegression(max_iter=1000)\n",
    "elif dimensions[\"model\"] == \"DecisionTree\":\n",
    "    model = DecisionTreeClassifier()\n",
    "else:\n",
    "    model = RandomForestClassifier()\n",
    "\n",
    "# Build the pipeline\n",
    "steps = []\n",
    "if scaler:\n",
    "    steps.append((\"scaler\", scaler))\n",
    "if selector:\n",
    "    steps.append((\"selector\", selector))\n",
    "steps.append((\"classifier\", model))\n",
    "\n",
    "pipeline = Pipeline(steps)\n",
    "\n",
    "# Fit the pipeline on the full training data\n",
    "pipeline.fit(X_train, y_train)"
   ]
  },
  {
   "cell_type": "code",
   "execution_count": 8,
   "metadata": {},
   "outputs": [],
   "source": [
    "# Make predictions on the test data\n",
    "y_pred = pipeline.predict(X_test)\n",
    "\n",
    "# Compute common classification metrics\n",
    "accuracy = accuracy_score(y_test, y_pred)\n",
    "precision = precision_score(y_test, y_pred, average=\"weighted\")\n",
    "recall = recall_score(y_test, y_pred, average=\"weighted\")\n",
    "f1 = f1_score(y_test, y_pred, average=\"weighted\")"
   ]
  },
  {
   "cell_type": "code",
   "execution_count": null,
   "metadata": {},
   "outputs": [],
   "source": [
    "# Save the final metrics\n",
    "final_data = pd.DataFrame(\n",
    "    {\n",
    "        \"accuracy\": [accuracy],\n",
    "        \"precision\": [precision],\n",
    "        \"recall\": [recall],\n",
    "        \"f1\": [f1],\n",
    "    }\n",
    ")\n",
    "final_data"
   ]
  },
  {
   "cell_type": "code",
   "execution_count": null,
   "metadata": {},
   "outputs": [],
   "source": [
    "universe.save_data(final_data)"
   ]
  },
  {
   "cell_type": "code",
   "execution_count": null,
   "metadata": {},
   "outputs": [],
   "source": []
  }
 ],
 "metadata": {
  "kernelspec": {
   "display_name": "venv",
   "language": "python",
   "name": "python3"
  },
  "language_info": {
   "codemirror_mode": {
    "name": "ipython",
    "version": 3
   },
   "file_extension": ".py",
   "mimetype": "text/x-python",
   "name": "python",
   "nbconvert_exporter": "python",
   "pygments_lexer": "ipython3",
   "version": "3.13.0"
  }
 },
 "nbformat": 4,
 "nbformat_minor": 2
}
